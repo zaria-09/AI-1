{
 "cells": [
  {
   "cell_type": "markdown",
   "id": "5e9efbd5-7293-4864-9877-d36dc12cdae4",
   "metadata": {},
   "source": [
    "# in the Go Fish game, what is the probability that the first card drawn for someones hand will be a 2 card?"
   ]
  },
  {
   "cell_type": "markdown",
   "id": "0a2aa17d-8923-49a4-bb5f-a529c20cdc2c",
   "metadata": {},
   "source": [
    "The study will be observational because I'll be observing data that is made from the simulation of the game. The sample space for my simulation is the standard 52 card deck without joker cards, four 2 cards, four 3 cards, four 4 cards, four 5 cards, four 6 cards, four 7 cards, four 8 cards, four 9 cards, four 10 cards, four 11(jack) cards, four 12(queen) cards, four 13(king) cards, four 14(ace) cards. one trial of the simulation is just the act of pulling a card from the deck of 52 cards. the outcome I'm measuring is the probability that the first card drawn will be a 2 card. "
   ]
  },
  {
   "cell_type": "code",
   "execution_count": 19,
   "id": "d4b45800-5d27-4a3e-ab0b-4fcc13f27c08",
   "metadata": {},
   "outputs": [],
   "source": [
    "import random\n",
    "import seaborn as sns\n",
    "import pandas as pd"
   ]
  },
  {
   "cell_type": "code",
   "execution_count": 20,
   "id": "ae22b1e1-f788-4b4d-8bdb-908acb3c08ba",
   "metadata": {},
   "outputs": [
    {
     "name": "stderr",
     "output_type": "stream",
     "text": [
      "/opt/conda/envs/anaconda-ai-2024.04-py310/lib/python3.10/site-packages/seaborn/_oldcore.py:1119: FutureWarning: use_inf_as_na option is deprecated and will be removed in a future version. Convert inf values to NaN before operating instead.\n",
      "  with pd.option_context('mode.use_inf_as_na', True):\n"
     ]
    },
    {
     "data": {
      "text/plain": [
       "<Axes: xlabel='draws', ylabel='Count'>"
      ]
     },
     "execution_count": 20,
     "metadata": {},
     "output_type": "execute_result"
    },
    {
     "data": {
      "image/png": "[encoded data removed]",
      "text/plain": [
       "<Figure size 640x480 with 1 Axes>"
      ]
     },
     "metadata": {},
     "output_type": "display_data"
    }
   ],
   "source": [
    "results = {\n",
    "    \"draws\" : [2,3,4,5,6,7,8,9,10,11,12,13,14,],\n",
    "    \"count\" : [0,0,0,0,0,0,0,0,0,0,0,0,0],\n",
    "}\n",
    "\n",
    "for i in range(0, 1000):\n",
    "    num = random.randint(2,14)\n",
    "    results[\"count\"][num-2] += 1\n",
    "\n",
    "df = pd.DataFrame(results)\n",
    "sns.histplot(data=df, x=\"draws\", weights =\"count\", discrete=True)"
   ]
  },
  {
   "cell_type": "markdown",
   "id": "d1cb6f7e-eba6-4c12-9cdf-31f356405adc",
   "metadata": {},
   "source": [
    "theoretical probability is 1/13"
   ]
  },
  {
   "cell_type": "code",
   "execution_count": 21,
   "id": "3c0647ab-de49-4e33-b9ab-8c7d537cf42d",
   "metadata": {},
   "outputs": [
    {
     "data": {
      "text/plain": [
       "0.07692307692307693"
      ]
     },
     "execution_count": 21,
     "metadata": {},
     "output_type": "execute_result"
    }
   ],
   "source": [
    "1/13"
   ]
  },
  {
   "cell_type": "code",
   "execution_count": 22,
   "id": "df826ccc-8ee4-4f6f-9778-9bd9e922174a",
   "metadata": {},
   "outputs": [
    {
     "data": {
      "text/plain": [
       "0.097"
      ]
     },
     "execution_count": 22,
     "metadata": {},
     "output_type": "execute_result"
    }
   ],
   "source": [
    "empirical = results[\"count\"][0] / 1000\n",
    "empirical"
   ]
  },
  {
   "cell_type": "markdown",
   "id": "eb2da996-ef41-4189-a34b-ee42edde4069",
   "metadata": {},
   "source": [
    "Answer: the probability that the first card drawn will be a two card is 1/13 chance, and by simulating cards being drawn, we can see how the empirical probability of my simulation is closest to my theoretical probability when I ran 1000 trial draws. "
   ]
  }
 ],
 "metadata": {
  "kernelspec": {
   "display_name": "anaconda-ai-2024.04-py310",
   "language": "python",
   "name": "conda-env-anaconda-ai-2024.04-py310-py"
  },
  "language_info": {
   "codemirror_mode": {
    "name": "ipython",
    "version": 3
   },
   "file_extension": ".py",
   "mimetype": "text/x-python",
   "name": "python",
   "nbconvert_exporter": "python",
   "pygments_lexer": "ipython3",
   "version": "3.10.13"
  }
 },
 "nbformat": 4,
 "nbformat_minor": 5
}
