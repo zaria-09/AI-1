{
 "cells": [
  {
   "cell_type": "code",
   "execution_count": 32,
   "id": "9270ad2e-ef7a-4337-aa46-8d22f3107f0d",
   "metadata": {},
   "outputs": [],
   "source": [
    "import random\n",
    "import seaborn as sns\n",
    "import pandas as pd"
   ]
  },
  {
   "cell_type": "code",
   "execution_count": 44,
   "id": "cfce145c-633d-4fa8-8c4c-2a74874db7db",
   "metadata": {},
   "outputs": [
    {
     "name": "stderr",
     "output_type": "stream",
     "text": [
      "/opt/conda/envs/anaconda-ai-2024.04-py310/lib/python3.10/site-packages/seaborn/_oldcore.py:1119: FutureWarning: use_inf_as_na option is deprecated and will be removed in a future version. Convert inf values to NaN before operating instead.\n",
      "  with pd.option_context('mode.use_inf_as_na', True):\n"
     ]
    },
    {
     "data": {
      "text/plain": [
       "<Axes: xlabel='Side', ylabel='Count'>"
      ]
     },
     "execution_count": 44,
     "metadata": {},
     "output_type": "execute_result"
    },
    {
     "data": {
      "image/png": "[encoded data removed]",
      "text/plain": [
       "<Figure size 640x480 with 1 Axes>"
      ]
     },
     "metadata": {},
     "output_type": "display_data"
    }
   ],
   "source": [
    "results = {\n",
    "    \"Side\" : [1, 2, 3, 4, 5, 6],\n",
    "    \"Frequency\" : [0,0,0,0,0,0]\n",
    "}\n",
    "\n",
    "for i in range(0, 100):\n",
    "    num = random.randint(1, 6)\n",
    "    results[\"Frequency\"][num-1] += 1\n",
    "df = pd.DataFrame(results)\n",
    "\n",
    "sns.histplot(data=df, x=\"Side\", weights =\"Frequency\", discrete=True)"
   ]
  },
  {
   "cell_type": "code",
   "execution_count": null,
   "id": "0bd874ee-2b13-424d-8bae-6461baf802ec",
   "metadata": {},
   "outputs": [],
   "source": []
  }
 ],
 "metadata": {
  "kernelspec": {
   "display_name": "anaconda-ai-2024.04-py310",
   "language": "python",
   "name": "conda-env-anaconda-ai-2024.04-py310-py"
  },
  "language_info": {
   "codemirror_mode": {
    "name": "ipython",
    "version": 3
   },
   "file_extension": ".py",
   "mimetype": "text/x-python",
   "name": "python",
   "nbconvert_exporter": "python",
   "pygments_lexer": "ipython3",
   "version": "3.10.13"
  }
 },
 "nbformat": 4,
 "nbformat_minor": 5
}
