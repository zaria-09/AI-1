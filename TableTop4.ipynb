{
 "cells": [
  {
   "cell_type": "markdown",
   "id": "fec2c844-f8de-49df-8814-a628b1340c22",
   "metadata": {},
   "source": [
    "# in the Go Fish game, what is the probability that the first card drawn for someone's hand will be a 2 card or a 5 card?"
   ]
  },
  {
   "cell_type": "markdown",
   "id": "08207dca-9b3c-4e77-9d4c-cca6223e93eb",
   "metadata": {},
   "source": [
    "The study will be observational because I'll be observing data that is made from the simulation of the game. The sample space for my simulation will the 52 card deck without the jokers. one trial of the simulation will be drawing one card from the deck. The outcome I will be measuring is how many times the first card drawn is a 2 or a 5 card. "
   ]
  },
  {
   "cell_type": "code",
   "execution_count": 2,
   "id": "510d26c1-3ae8-4706-8ae8-2980ca664042",
   "metadata": {},
   "outputs": [],
   "source": [
    "import random \n",
    "import seaborn as sns\n",
    "import pandas as pd"
   ]
  },
  {
   "cell_type": "code",
   "execution_count": 13,
   "id": "ccccfa8d-eaf0-4b2a-85c5-27981751a775",
   "metadata": {},
   "outputs": [
    {
     "data": {
      "text/plain": [
       "<Axes: xlabel='lable', ylabel='count'>"
      ]
     },
     "execution_count": 13,
     "metadata": {},
     "output_type": "execute_result"
    },
    {
     "data": {
      "image/png": "[encoded data removed]",
      "text/plain": [
       "<Figure size 640x480 with 1 Axes>"
      ]
     },
     "metadata": {},
     "output_type": "display_data"
    }
   ],
   "source": [
    "other_num = 0 \n",
    "is_two = 0\n",
    "is_five = 0\n",
    "for i in range(0, 1000):\n",
    "    num = random.randint(2,14)\n",
    "    if num == 2 :\n",
    "        is_two += 1\n",
    "    elif num == 5 :\n",
    "        is_five +=1\n",
    "    else:\n",
    "        other_num +=1\n",
    "results = {\n",
    "    \"lable\" : [\"is two\", \"is five\",\"other number\"],\n",
    "    \"count\" : [is_two, is_five, other_num]\n",
    "}\n",
    "df = pd.DataFrame(results)\n",
    "sns.barplot(data=df, x=\"lable\", y=\"count\")"
   ]
  },
  {
   "cell_type": "code",
   "execution_count": 11,
   "id": "6cee9357-2ed4-42d1-8bf1-1e67bf4a0b29",
   "metadata": {},
   "outputs": [
    {
     "data": {
      "text/plain": [
       "0.15384615384615385"
      ]
     },
     "execution_count": 11,
     "metadata": {},
     "output_type": "execute_result"
    }
   ],
   "source": [
    "theo = 8/52\n",
    "theo"
   ]
  },
  {
   "cell_type": "code",
   "execution_count": 14,
   "id": "ba73b5b3-1918-4506-94a5-02d47033ffd3",
   "metadata": {},
   "outputs": [
    {
     "data": {
      "text/plain": [
       "0.144"
      ]
     },
     "execution_count": 14,
     "metadata": {},
     "output_type": "execute_result"
    }
   ],
   "source": [
    "emp = (is_two + is_five)/ 1000\n",
    "emp"
   ]
  },
  {
   "cell_type": "markdown",
   "id": "84c1e066-d2e7-4474-a612-40440280c73a",
   "metadata": {},
   "source": [
    "Answer: The probability that you get a two or a five card is 15.4 % chance, and this simulation shows that. by running 1000 trials of drawing a card to see if it is a five or two card, the empirical probability is 14.4 % chance, which is close to the theoretical probability of 15%."
   ]
  }
 ],
 "metadata": {
  "kernelspec": {
   "display_name": "anaconda-ai-2024.04-py310",
   "language": "python",
   "name": "conda-env-anaconda-ai-2024.04-py310-py"
  },
  "language_info": {
   "codemirror_mode": {
    "name": "ipython",
    "version": 3
   },
   "file_extension": ".py",
   "mimetype": "text/x-python",
   "name": "python",
   "nbconvert_exporter": "python",
   "pygments_lexer": "ipython3",
   "version": "3.10.13"
  }
 },
 "nbformat": 4,
 "nbformat_minor": 5
}
