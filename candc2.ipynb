{
 "cells": [
  {
   "cell_type": "markdown",
   "id": "90e90970-c02e-4bf9-a37e-67b224e8141a",
   "metadata": {},
   "source": [
    "# Which education pathway leaves you in a better financial position at the point of graduation? going to Metro University or going to University of Denver? (by better financial position I mean the least amount of debt after 4 years school)"
   ]
  },
  {
   "cell_type": "markdown",
   "id": "c515633d-1f6f-481c-8730-fff23f765779",
   "metadata": {},
   "source": [
    "the assumptions I need to make are acceptance rate, graduation rate, annual income for one year, and if they have a part time job or a full time job. \n",
    "the random variables I am using are acceptance rate that each school has, the graduation rate each school has and if the student drops out or not, the average salaries the student has for one year, and the dorm apartment costs.\n",
    "one trial of the simulation will be a student deciding which of the two schools they go to based on their sat scores and randomness, and then what their financial position is at the point of graduation. in total there will be 100 students in my simulation and I will be averaging their debt."
   ]
  },
  {
   "cell_type": "code",
   "execution_count": 143,
   "id": "45d5c6ec-9400-4a89-b675-f7fe88cca836",
   "metadata": {},
   "outputs": [],
   "source": [
    "import random \n",
    "import seaborn as sns\n",
    "import pandas as pd\n"
   ]
  },
  {
   "cell_type": "code",
   "execution_count": 200,
   "id": "7b834e2f-09cd-4775-9a81-6fdd26f0e8ba",
   "metadata": {},
   "outputs": [
    {
     "name": "stdout",
     "output_type": "stream",
     "text": [
      "50\n",
      "50\n"
     ]
    }
   ],
   "source": [
    "nocount = 0\n",
    "iscount = 0\n",
    "for i in range(1,101):\n",
    "    A = 0\n",
    "    B = 0\n",
    "    r = random.randint(420,770)\n",
    "    m = random.randint(410,750)\n",
    "    arate = 0\n",
    "    accepted = 0\n",
    "    \n",
    "    if (r <=710)&(m <= 700) :\n",
    "        aratehorl = 3\n",
    "        \n",
    "    else:\n",
    "        aratehorl = 1\n",
    "        \n",
    "    arateh = [3,3,3,3,3,1,1]\n",
    "    if(aratehorl == 3) :\n",
    "        arate = random.choice(arateh)\n",
    "        \n",
    "    else:\n",
    "        arate = random.randint(1,8)\n",
    "        \n",
    "        \n",
    "    if(arate == 3):\n",
    "        accepted = 1\n",
    "        \n",
    "        iscount +=1\n",
    "    else :\n",
    "        accepted = 0\n",
    "        \n",
    "        nocount +=1\n",
    "    \n",
    "print(iscount)\n",
    "print(nocount)\n",
    "\n",
    "    "
   ]
  },
  {
   "cell_type": "code",
   "execution_count": 201,
   "id": "b2fb6d7f-7be1-4fc5-abb9-c6d067cb1ca8",
   "metadata": {},
   "outputs": [
    {
     "name": "stdout",
     "output_type": "stream",
     "text": [
      "49\n",
      "1\n",
      "50\n",
      "DU Students with part time jobs\n",
      "26\n",
      "DU Students with full time jobs\n",
      "23\n",
      "Metro Students with part time jobs\n",
      "24\n",
      "Metro Students with full time jobs\n",
      "26\n",
      "---------------------------------------------------------\n",
      "Metro debt\n",
      "57176\n",
      "DU debt\n",
      "144148\n",
      "DU student with part time job, their annual income:\n",
      "40923.07692307692\n",
      "DU student with full time job, their annual income:\n",
      "125217.39130434782\n",
      "Metro student with part time job, their annual income:\n",
      "24500.0\n",
      "Metro student with full time job, their annual income:\n",
      "63076.92307692308\n",
      "---------------------------------------------------------\n",
      "DU student with part time job that dropped\n",
      "17\n",
      "DU student with full time job that dropped\n",
      "13\n",
      "Metro student with part time job that dropped\n",
      "23\n",
      "Metro student with full time job that dropped\n",
      "26\n"
     ]
    }
   ],
   "source": [
    "s_going_to_metro = 0\n",
    "s_going_to_workf = 0\n",
    "s_going_to_DU = 0\n",
    "\n",
    "\n",
    "if iscount : \n",
    "    for i in range(iscount) :\n",
    "        DU_to_metro = random.randint(1,60) ## <-- if they switch their mind and want to go to metro instead\n",
    "        if(DU_to_metro == 2) :\n",
    "            s_going_to_metro += 1\n",
    "        else:\n",
    "            s_going_to_DU += 1\n",
    "\n",
    "if nocount :\n",
    "    for i in range(nocount) :\n",
    "        dw_going_to_workf = random.randint(1,70) ## <-- decides who is going into the work force to work at a fast food place in Colorado, but it's random\n",
    "        if(dw_going_to_workf == 2) :\n",
    "            s_going_to_workf += 1\n",
    "        else:\n",
    "            s_going_to_metro += 1\n",
    "            \n",
    "\n",
    "print(s_going_to_DU)\n",
    "print(s_going_to_workf)\n",
    "print(s_going_to_metro)\n",
    "\n",
    "drop_out = 0\n",
    "                           ## I got info from google of annual pay for part time and full time jobs for students in 4 year college\n",
    "DU_s_wp = 0\n",
    "DU_s_wf = 0\n",
    "M_s_wp = 0\n",
    "M_s_wf = 0\n",
    "\n",
    "M_debt = 0\n",
    "DU_debt = 0\n",
    "\n",
    "DU_s_wp_pay = 0  \n",
    "DU_s_wf_pay = 0\n",
    "M_s_wp_pay = 0\n",
    "M_s_wf_pay = 0\n",
    "\n",
    "DU_s_wp_drop = 0\n",
    "DU_s_wf_drop = 0\n",
    "M_s_wp_drop = 0\n",
    "M_s_wf_drop = 0\n",
    "\n",
    "for i in range (s_going_to_DU) :\n",
    "    part_or_full = random.randint(1,2)\n",
    "    if part_or_full == 2 :\n",
    "        DU_s_wp += 1\n",
    "    else:\n",
    "        DU_s_wf += 1\n",
    "print(\"DU Students with part time jobs\")\n",
    "print(DU_s_wp)\n",
    "print(\"DU Students with full time jobs\")\n",
    "print(DU_s_wf)\n",
    "\n",
    "for i in range (s_going_to_metro) :\n",
    "    part_or_full = random.randint(1,2)\n",
    "    if part_or_full == 2 :\n",
    "        M_s_wp += 1\n",
    "    else:\n",
    "        M_s_wf += 1\n",
    "print(\"Metro Students with part time jobs\")\n",
    "print(M_s_wp)\n",
    "print(\"Metro Students with full time jobs\")\n",
    "print(M_s_wf)\n",
    "\n",
    "for i in range(DU_s_wp):\n",
    "    for year in range(4):    \n",
    "        DU_s_wp_pay += 14000  \n",
    "        drop_out_chance = random.randint(1,101)\n",
    "        if drop_out_chance > 75:\n",
    "            DU_s_wp_drop += 1\n",
    "            break\n",
    "for i in range(DU_s_wf):\n",
    "    for year in range(4):\n",
    "        DU_s_wf_pay += 40000\n",
    "        drop_out_chance = random.randint(1,101)\n",
    "        if drop_out_chance > 75:\n",
    "            DU_s_wf_drop += 1\n",
    "            break\n",
    "for i in range(M_s_wp):\n",
    "    for year in range(4):\n",
    "        M_s_wp_pay += 14000\n",
    "        drop_out_chance = random.randint(1,101)\n",
    "        if drop_out_chance > 37:\n",
    "            M_s_wp_drop += 1\n",
    "            break\n",
    "for i in range(M_s_wf):\n",
    "    for year in range(4):\n",
    "        M_s_wf_pay += 40000\n",
    "        drop_out_chance = random.randint(1,101)\n",
    "        if drop_out_chance > 37:\n",
    "            M_s_wf_drop += 1\n",
    "            break\n",
    "\n",
    "\n",
    "\n",
    "for i in range(4):\n",
    "    DU_debt += 36037\n",
    "    M_debt += 14294\n",
    "print(\"---------------------------------------------------------\")\n",
    "print(\"Metro debt\")\n",
    "print(M_debt)\n",
    "print(\"DU debt\")\n",
    "print(DU_debt)\n",
    "print(\"DU student with part time job, their annual income:\")\n",
    "print(DU_s_wp_pay / DU_s_wp)\n",
    "print(\"DU student with full time job, their annual income:\")\n",
    "print(DU_s_wf_pay / DU_s_wf)\n",
    "print(\"Metro student with part time job, their annual income:\")\n",
    "print(M_s_wp_pay/ M_s_wp)\n",
    "print(\"Metro student with full time job, their annual income:\")\n",
    "print(M_s_wf_pay / M_s_wf)\n",
    "print(\"---------------------------------------------------------\")\n",
    "print(\"DU student with part time job that dropped\")\n",
    "print(DU_s_wp_drop)\n",
    "print(\"DU student with full time job that dropped\")\n",
    "print(DU_s_wf_drop)\n",
    "print(\"Metro student with part time job that dropped\")\n",
    "print(M_s_wp_drop)\n",
    "print(\"Metro student with full time job that dropped\")\n",
    "print(M_s_wf_drop)"
   ]
  },
  {
   "cell_type": "code",
   "execution_count": 202,
   "id": "1e38f7bb-af22-42e6-836d-9d564203cf15",
   "metadata": {},
   "outputs": [
    {
     "name": "stdout",
     "output_type": "stream",
     "text": [
      "average debt of part time job from DU\n",
      "103224.92307692308\n",
      "average debt of full time job from DU\n",
      "18930.608695652176\n",
      "average debt of part time job from Metro\n",
      "32676.0\n",
      "average debt of full time job from Metro\n",
      "0\n"
     ]
    }
   ],
   "source": [
    "d_of_s_wp_atDU = max(DU_debt - (DU_s_wp_pay / DU_s_wp), 0)\n",
    "d_of_s_wf_atDU = max(DU_debt - (DU_s_wf_pay / DU_s_wf), 0)\n",
    "d_of_s_wp_atM = max(M_debt - (M_s_wp_pay / M_s_wp), 0)\n",
    "d_of_s_wf_atM = max(M_debt - (M_s_wf_pay / M_s_wf), 0)\n",
    "print(\"average debt of part time job from DU\")\n",
    "print(d_of_s_wp_atDU)\n",
    "print(\"average debt of full time job from DU\")\n",
    "print(d_of_s_wf_atDU)\n",
    "print(\"average debt of part time job from Metro\")\n",
    "print(d_of_s_wp_atM)\n",
    "print(\"average debt of full time job from Metro\")\n",
    "print(d_of_s_wf_atM)\n"
   ]
  },
  {
   "cell_type": "code",
   "execution_count": 203,
   "id": "0e5eb6ff-09fb-4d82-a49f-9967db86c6db",
   "metadata": {},
   "outputs": [
    {
     "data": {
      "image/png": "[encoded data removed]",
      "text/plain": [
       "<Figure size 1000x600 with 1 Axes>"
      ]
     },
     "metadata": {},
     "output_type": "display_data"
    }
   ],
   "source": [
    "import matplotlib.pyplot as plt\n",
    "info = {\"debt of\" : ['DU & part time job', 'DU & full time job','Metro & part time job','Metro & full time job'],\n",
    "        \"amount\" : [d_of_s_wp_atDU, d_of_s_wf_atDU, d_of_s_wp_atM, d_of_s_wf_atM]}\n",
    "plt.figure(figsize=(10,6))\n",
    "plt.title(\"average Debt of students\")\n",
    "df = pd.DataFrame(info)\n",
    "sns.barplot(x='debt of', y='amount', data=df)\n",
    "plt.show()"
   ]
  },
  {
   "cell_type": "code",
   "execution_count": 204,
   "id": "f7ccf85c-4ab8-4a1b-9c58-fce2dbea4745",
   "metadata": {},
   "outputs": [
    {
     "name": "stdout",
     "output_type": "stream",
     "text": [
      "Expected debt for all students, according to my simulation is $53,478.13\n"
     ]
    }
   ],
   "source": [
    "total_students = DU_s_wp + DU_s_wf + M_s_wp + M_s_wf\n",
    "expected_debt_all = (\n",
    "    DU_s_wp * 35135.81 + DU_s_wf * 96341.39 +\n",
    "    M_s_wp * 21493.23 + M_s_wf * 63427.47\n",
    ") / total_students\n",
    "\n",
    "print(f\"Expected debt for all students, according to my simulation is ${expected_debt_all:,.2f}\")"
   ]
  },
  {
   "cell_type": "markdown",
   "id": "021c7524-7d25-4751-82cc-1c79e7325045",
   "metadata": {},
   "source": [
    "Answer: according to my simulation, what pathway would leave me at the better financial position at the point of graduation would be going to Metro with a full time job because, according to my simulation, I would be left with no debt. in my simulation the expected debt for all students would be 53,478."
   ]
  }
 ],
 "metadata": {
  "kernelspec": {
   "display_name": "anaconda-ai-2024.04-py310",
   "language": "python",
   "name": "conda-env-anaconda-ai-2024.04-py310-py"
  },
  "language_info": {
   "codemirror_mode": {
    "name": "ipython",
    "version": 3
   },
   "file_extension": ".py",
   "mimetype": "text/x-python",
   "name": "python",
   "nbconvert_exporter": "python",
   "pygments_lexer": "ipython3",
   "version": "3.10.13"
  }
 },
 "nbformat": 4,
 "nbformat_minor": 5
}
