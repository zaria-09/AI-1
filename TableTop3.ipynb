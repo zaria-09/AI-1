{
 "cells": [
  {
   "cell_type": "markdown",
   "id": "f002dd73-d800-40b7-ab51-49bd894476a2",
   "metadata": {},
   "source": [
    "# in the Go Fish game, what is the probability that the first card drawn for someone's hand will be a 2 card and the second card drawn for their hand will be another 2 card?"
   ]
  },
  {
   "cell_type": "markdown",
   "id": "5550da5b-1edc-4db0-a587-d46a8000b739",
   "metadata": {},
   "source": [
    "The study will be observational because I'll be observing data that is made from the simulation of the game. The sample space for my simulation will the 52 card deck without the jokers. one trial of the simulation will be drawing two cards. the outcome I will be measuring how many times both cards drawn are 2 cards."
   ]
  },
  {
   "cell_type": "code",
   "execution_count": 2,
   "id": "83256380-287b-4ba8-9f59-60f29d59bd29",
   "metadata": {},
   "outputs": [],
   "source": [
    "import random\n",
    "import seaborn as sns\n",
    "import pandas as pd"
   ]
  },
  {
   "cell_type": "code",
   "execution_count": 8,
   "id": "7ba36a93-896b-494e-9215-fda52cefefba",
   "metadata": {},
   "outputs": [
    {
     "name": "stdout",
     "output_type": "stream",
     "text": [
      "995\n",
      "5\n"
     ]
    },
    {
     "name": "stderr",
     "output_type": "stream",
     "text": [
      "/opt/conda/envs/anaconda-ai-2024.04-py310/lib/python3.10/site-packages/seaborn/_oldcore.py:1765: FutureWarning: unique with argument that is not not a Series, Index, ExtensionArray, or np.ndarray is deprecated and will raise in a future version.\n",
      "  order = pd.unique(vector)\n"
     ]
    },
    {
     "data": {
      "text/plain": [
       "<Axes: >"
      ]
     },
     "execution_count": 8,
     "metadata": {},
     "output_type": "execute_result"
    },
    {
     "data": {
      "image/png": "[encoded data removed]",
      "text/plain": [
       "<Figure size 640x480 with 1 Axes>"
      ]
     },
     "metadata": {},
     "output_type": "display_data"
    }
   ],
   "source": [
    "c1istwo =0\n",
    "c1not =0\n",
    "c2istwo =0\n",
    "c2not =0\n",
    "for i in range(0, 1000):\n",
    "    card1 = random.randint(2,14)\n",
    "    if card1 ==2 :\n",
    "        c1istwo += 1\n",
    "        pcard2 = [2,2,2,3,3,3,3,4,4,4,4,5,5,5,5,6,6,6,6,7,7,7,7,8,8,8,8,9,9,9,9,10,10,10,10,11,11,11,11,12,12,12,12,13,13,13,13,14,14,14,14]\n",
    "        card2 = random.choice(pcard2)\n",
    "        if card2 == 2: \n",
    "            c2istwo +=1\n",
    "        else:\n",
    "            c2not +=1\n",
    "    else:\n",
    "        c1not +=1\n",
    "not2 = c1not + c2not\n",
    "both2 = c2istwo\n",
    "\n",
    "\n",
    "results = {\n",
    "    \"cards\" : [\"cards are not both two\",\"both cards are 2\"],\n",
    "    \"count\" : [not2,both2]\n",
    "}\n",
    "print(not2)\n",
    "print(both2)\n",
    "df = pd.DataFrame(results)\n",
    "sns.barplot(results, x=\"cards\", y =\"count\")"
   ]
  },
  {
   "cell_type": "code",
   "execution_count": 9,
   "id": "d4da12d1-35c5-4aa8-858a-304bab8a2dc7",
   "metadata": {},
   "outputs": [
    {
     "data": {
      "text/plain": [
       "0.005"
      ]
     },
     "execution_count": 9,
     "metadata": {},
     "output_type": "execute_result"
    }
   ],
   "source": [
    "emp = (both2 / 1000)\n",
    "emp"
   ]
  },
  {
   "cell_type": "code",
   "execution_count": 10,
   "id": "8b66dd99-e3ce-4438-ad2a-c0d7ef30a681",
   "metadata": {},
   "outputs": [
    {
     "data": {
      "text/plain": [
       "0.004524886877828055"
      ]
     },
     "execution_count": 10,
     "metadata": {},
     "output_type": "execute_result"
    }
   ],
   "source": [
    "theo = (3/51)*(4/52)\n",
    "theo"
   ]
  },
  {
   "cell_type": "markdown",
   "id": "91cdeab7-d2db-4b2b-b1ab-c97b5b5aa0f2",
   "metadata": {},
   "source": [
    "answer: the theoretical probability that the first and second cards drawn will both be a 2 card is 1/221(~0.0045), and the empirical probability that they will both be a 2 card is 0.005, so the probability of getting a 2 card for your first and second draw is closest to the theoretical probability of 1/221(~0.0045)."
   ]
  }
 ],
 "metadata": {
  "kernelspec": {
   "display_name": "anaconda-ai-2024.04-py310",
   "language": "python",
   "name": "conda-env-anaconda-ai-2024.04-py310-py"
  },
  "language_info": {
   "codemirror_mode": {
    "name": "ipython",
    "version": 3
   },
   "file_extension": ".py",
   "mimetype": "text/x-python",
   "name": "python",
   "nbconvert_exporter": "python",
   "pygments_lexer": "ipython3",
   "version": "3.10.13"
  }
 },
 "nbformat": 4,
 "nbformat_minor": 5
}
