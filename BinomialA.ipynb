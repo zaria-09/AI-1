{
 "cells": [
  {
   "cell_type": "markdown",
   "id": "7b7d5789-9f3e-429f-ae08-a697dd34db4c",
   "metadata": {},
   "source": [
    "# In the Trondead game, a player who has horrible aim, has a 30% chance of hitting one of the 3 enemies. if the player shoots 15 times, what is the probability that this player will hit one of the enemies 3?\n"
   ]
  },
  {
   "cell_type": "markdown",
   "id": "139a5b60-9077-4046-9ad5-479d53f0c3a0",
   "metadata": {},
   "source": [
    "The assumptions I will make are that the player has horrible aim so they have 30% of hitting one of the 3 enemies.\n",
    "The random variables are the 10 shots from the the 3 enemies.\n",
    "one trial of the simulation will be 15 shots from the player and seeing if they landed on one or more of the 3 enemies or not. \n",
    "the success will be if that player gets hits an enemy 3 times or more from the 15 shots shot, and a failure will be if they don't hit the enemy at all. "
   ]
  },
  {
   "cell_type": "code",
   "execution_count": 1,
   "id": "e1afa7b1-c443-489c-b3be-7df37159f430",
   "metadata": {},
   "outputs": [
    {
     "name": "stdout",
     "output_type": "stream",
     "text": [
      "Defaulting to user installation because normal site-packages is not writeable\n",
      "Looking in links: /usr/share/pip-wheels\n",
      "Requirement already satisfied: ale-py in /home/3eba5f29-3cc0-4691-adcf-526b4bbc8069/.local/lib/python3.10/site-packages (0.11.2)\n",
      "Requirement already satisfied: numpy>1.20 in /opt/conda/envs/anaconda-ai-2024.04-py310/lib/python3.10/site-packages (from ale-py) (1.26.4)\n",
      "Requirement already satisfied: typing-extensions in /opt/conda/envs/anaconda-ai-2024.04-py310/lib/python3.10/site-packages (from ale-py) (4.9.0)\n",
      "Defaulting to user installation because normal site-packages is not writeable\n",
      "Looking in links: /usr/share/pip-wheels\n",
      "Requirement already satisfied: gymnasium in /home/3eba5f29-3cc0-4691-adcf-526b4bbc8069/.local/lib/python3.10/site-packages (1.2.1)\n",
      "Requirement already satisfied: numpy>=1.21.0 in /opt/conda/envs/anaconda-ai-2024.04-py310/lib/python3.10/site-packages (from gymnasium) (1.26.4)\n",
      "Requirement already satisfied: cloudpickle>=1.2.0 in /opt/conda/envs/anaconda-ai-2024.04-py310/lib/python3.10/site-packages (from gymnasium) (2.2.1)\n",
      "Requirement already satisfied: typing-extensions>=4.3.0 in /opt/conda/envs/anaconda-ai-2024.04-py310/lib/python3.10/site-packages (from gymnasium) (4.9.0)\n",
      "Requirement already satisfied: farama-notifications>=0.0.1 in /home/3eba5f29-3cc0-4691-adcf-526b4bbc8069/.local/lib/python3.10/site-packages (from gymnasium) (0.0.4)\n",
      "Defaulting to user installation because normal site-packages is not writeable\n",
      "Looking in links: /usr/share/pip-wheels\n",
      "Requirement already satisfied: gymnasium[atari] in /home/3eba5f29-3cc0-4691-adcf-526b4bbc8069/.local/lib/python3.10/site-packages (1.2.1)\n",
      "Requirement already satisfied: numpy>=1.21.0 in /opt/conda/envs/anaconda-ai-2024.04-py310/lib/python3.10/site-packages (from gymnasium[atari]) (1.26.4)\n",
      "Requirement already satisfied: cloudpickle>=1.2.0 in /opt/conda/envs/anaconda-ai-2024.04-py310/lib/python3.10/site-packages (from gymnasium[atari]) (2.2.1)\n",
      "Requirement already satisfied: typing-extensions>=4.3.0 in /opt/conda/envs/anaconda-ai-2024.04-py310/lib/python3.10/site-packages (from gymnasium[atari]) (4.9.0)\n",
      "Requirement already satisfied: farama-notifications>=0.0.1 in /home/3eba5f29-3cc0-4691-adcf-526b4bbc8069/.local/lib/python3.10/site-packages (from gymnasium[atari]) (0.0.4)\n",
      "Requirement already satisfied: ale_py>=0.9 in /home/3eba5f29-3cc0-4691-adcf-526b4bbc8069/.local/lib/python3.10/site-packages (from gymnasium[atari]) (0.11.2)\n"
     ]
    }
   ],
   "source": [
    "!pip install ale-py\n",
    "!pip install gymnasium\n",
    "!pip install 'gymnasium[atari]'"
   ]
  },
  {
   "cell_type": "code",
   "execution_count": 1,
   "id": "73bfb2c4-7018-4583-b6ac-a04b02f8bcda",
   "metadata": {},
   "outputs": [
    {
     "name": "stderr",
     "output_type": "stream",
     "text": [
      "A.L.E: Arcade Learning Environment (version 0.11.2+ecc1138)\n",
      "[Powered by Stella]\n"
     ]
    }
   ],
   "source": [
    "import seaborn as sns\n",
    "import pandas as pd\n",
    "import ale_py\n",
    "from gymnasium.spaces import Discrete, Box\n",
    "from ale_py import ALEInterface\n",
    "ale = ALEInterface()"
   ]
  },
  {
   "cell_type": "code",
   "execution_count": 2,
   "id": "de6cc64c-7666-43a5-b0de-ea8c7a7910e7",
   "metadata": {},
   "outputs": [],
   "source": [
    "import gymnasium as gym\n",
    "import numpy as np\n",
    "import matplotlib.pyplot as plt\n",
    "import time\n",
    "from IPython.display import clear_output\n",
    "all_envs = gym.envs.registry "
   ]
  },
  {
   "cell_type": "code",
   "execution_count": 3,
   "id": "82f87c43-9079-4dd6-b541-b5a444ca9848",
   "metadata": {},
   "outputs": [
    {
     "name": "stderr",
     "output_type": "stream",
     "text": [
      "A.L.E: Arcade Learning Environment (version 0.11.2+ecc1138)\n",
      "[Powered by Stella]\n"
     ]
    }
   ],
   "source": [
    "gym.register_envs(ale_py)\n",
    "\n",
    "env = gym.make('ALE/Breakout-v5')\n",
    "obs, info = env.reset()\n",
    "obs, reward, terminated, truncated, info = env.step(env.action_space.sample())\n",
    "env.close()"
   ]
  },
  {
   "cell_type": "code",
   "execution_count": 24,
   "id": "09eab303-1ae4-4ce1-9ead-4d62d409b5b1",
   "metadata": {},
   "outputs": [
    {
     "data": {
      "image/png": "[encoded data removed]",
      "text/plain": [
       "<Figure size 600x800 with 1 Axes>"
      ]
     },
     "metadata": {},
     "output_type": "display_data"
    },
    {
     "name": "stdout",
     "output_type": "stream",
     "text": [
      "78\n",
      "1437\n",
      "0.0\n"
     ]
    }
   ],
   "source": [
    "env = gym.make(\"ALE/Trondead-v5\", render_mode='rgb_array')\n",
    "Discrete(18)\n",
    "RENDER_EVERY = 100\n",
    "SLEEP_TIME = 0.01\n",
    "successful_games = 0\n",
    "fig, ax = plt.subplots(figsize=(6, 8))\n",
    "ax.axis('off')\n",
    "\n",
    "total_reward = 0\n",
    "shots_thrown = 0\n",
    "game_count = 0\n",
    "tothits =0\n",
    "totmisses =0\n",
    "\n",
    "while game_count <= 100:\n",
    "    shots_thrown = 0\n",
    "    observation, info = env.reset()\n",
    "    total_reward = 0\n",
    "    previous_lives = info.get('lives', 1)\n",
    "    \n",
    "    for step in range(500):\n",
    "        \n",
    "        action = env.action_space.sample()\n",
    "        observation, reward, terminated, truncated, info = env.step(action)\n",
    "        total_reward += reward\n",
    "\n",
    "        current_lives = info.get('lives', 1)\n",
    "\n",
    "        \n",
    "        if action in [1,10]:\n",
    "            shots_thrown += 1\n",
    "        \n",
    "        if step % RENDER_EVERY == 0:\n",
    "            clear_output(wait=True)\n",
    "            ax.clear()\n",
    "            ax.imshow(env.render())\n",
    "            ax.set_title(f\"Step: {step} | Reward: {total_reward:.0f} | shots thrown: {shots_thrown} | game count: {game_count}\")\n",
    "            ax.axis('off')\n",
    "            display(fig)\n",
    "        \n",
    "        if SLEEP_TIME > 0:\n",
    "                time.sleep(SLEEP_TIME)\n",
    "        time.sleep(0.01)\n",
    "        \n",
    "        if terminated or truncated:\n",
    "            pass\n",
    "        if shots_thrown == 15:\n",
    "            if total_reward >= 3 :\n",
    "                tothits += 3\n",
    "                totmisses += 12\n",
    "                successful_games += 1\n",
    "            elif total_reward == 2:\n",
    "                tothits += 0\n",
    "                totmisses += 13\n",
    "                \n",
    "            elif total_reward == 1:\n",
    "                tothits += 0 \n",
    "                totmisses += 14\n",
    "                \n",
    "            else:\n",
    "                tothits += 0\n",
    "                totmisses += 15\n",
    "                \n",
    "            \n",
    "            observation, info = env.reset()\n",
    "            break\n",
    "    \n",
    "    game_count += 1\n",
    "    time.sleep(0.1)\n",
    "    \n",
    "\n",
    "plt.close()\n",
    "env.close()\n",
    "print(tothits)\n",
    "print(totmisses)\n",
    "print(total_reward)\n"
   ]
  },
  {
   "cell_type": "code",
   "execution_count": 25,
   "id": "1a4e7b02-6ffc-436d-8c22-e6ac5d7ad374",
   "metadata": {},
   "outputs": [
    {
     "data": {
      "image/png": "[encoded data removed]",
      "text/plain": [
       "<Figure size 640x480 with 1 Axes>"
      ]
     },
     "metadata": {},
     "output_type": "display_data"
    }
   ],
   "source": [
    "info = {\"Lables\" : ['hits', 'misses'],\n",
    "        \"count\" : [tothits, totmisses]}\n",
    "ax.set_title(\"100 trials ran\")\n",
    "df = pd.DataFrame(info)\n",
    "sns.barplot(x='Lables', y='count', data=df)\n",
    "\n",
    "plt.show()"
   ]
  },
  {
   "cell_type": "code",
   "execution_count": 26,
   "id": "44aeaa2f-37b1-4e66-b633-b95a16a11b36",
   "metadata": {},
   "outputs": [
    {
     "name": "stdout",
     "output_type": "stream",
     "text": [
      "Empirical probability of hitting ≥3 enemies: 0.25742574257425743\n"
     ]
    }
   ],
   "source": [
    "empirical_probability = successful_games / game_count\n",
    "print(\"Empirical probability of hitting ≥3 enemies:\", empirical_probability)"
   ]
  },
  {
   "cell_type": "markdown",
   "id": "5e5f18fe-efdf-4fff-96a0-87910f7a77eb",
   "metadata": {},
   "source": [
    "The theoretical binomial probability is 17% and the empirical probability based on my simulation is 26% rounded."
   ]
  }
 ],
 "metadata": {
  "kernelspec": {
   "display_name": "anaconda-ai-2024.04-py310",
   "language": "python",
   "name": "conda-env-anaconda-ai-2024.04-py310-py"
  },
  "language_info": {
   "codemirror_mode": {
    "name": "ipython",
    "version": 3
   },
   "file_extension": ".py",
   "mimetype": "text/x-python",
   "name": "python",
   "nbconvert_exporter": "python",
   "pygments_lexer": "ipython3",
   "version": "3.10.13"
  }
 },
 "nbformat": 4,
 "nbformat_minor": 5
}
