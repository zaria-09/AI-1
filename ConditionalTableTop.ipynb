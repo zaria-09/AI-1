{
 "cells": [
  {
   "cell_type": "markdown",
   "id": "b0fb0646-4ec1-4f2c-9c9d-56624e1f3bc1",
   "metadata": {},
   "source": [
    "# In the go fish game, given that the first card drawn is less than 6, what is the probability that the first card drawn is 2?"
   ]
  },
  {
   "cell_type": "markdown",
   "id": "30897fb4-6356-419c-8005-a8573abcb392",
   "metadata": {},
   "source": [
    "the sample space of this simulation is 16 cards from the deck that are cards all less than 6. the ace card is considered the highest so it doesn't count as less than six. one trial of the simulation is just the act of drawing a card that we know is less than a 6 card. The outcome I am observing is how many times a 2 card is drawn, given that the card drawn has to be less than a 6 card."
   ]
  },
  {
   "cell_type": "code",
   "execution_count": 31,
   "id": "78747ec3-e835-4ead-9fe9-66f284afe7bf",
   "metadata": {},
   "outputs": [],
   "source": [
    "import random\n",
    "import seaborn as sns\n",
    "import pandas as pd"
   ]
  },
  {
   "cell_type": "code",
   "execution_count": 40,
   "id": "1a443c42-a978-4dfd-a46c-aaea3c63f318",
   "metadata": {
    "scrolled": true
   },
   "outputs": [
    {
     "name": "stdout",
     "output_type": "stream",
     "text": [
      "29\n",
      "71\n"
     ]
    },
    {
     "name": "stderr",
     "output_type": "stream",
     "text": [
      "/opt/conda/envs/anaconda-ai-2024.04-py310/lib/python3.10/site-packages/seaborn/_oldcore.py:1765: FutureWarning: unique with argument that is not not a Series, Index, ExtensionArray, or np.ndarray is deprecated and will raise in a future version.\n",
      "  order = pd.unique(vector)\n"
     ]
    },
    {
     "data": {
      "text/plain": [
       "<Axes: >"
      ]
     },
     "execution_count": 40,
     "metadata": {},
     "output_type": "execute_result"
    },
    {
     "data": {
      "image/png": "[encoded data removed]",
      "text/plain": [
       "<Figure size 640x480 with 1 Axes>"
      ]
     },
     "metadata": {},
     "output_type": "display_data"
    }
   ],
   "source": [
    "results = {\n",
    "    \"is two\" : [\"is two\", \"is not\"],\n",
    "    \"count\" : [is_two, is_not]\n",
    "}\n",
    "is_two = 0\n",
    "is_not = 0\n",
    "for i in range(0, 100):\n",
    "    num = random.randint(2,5)\n",
    "    \n",
    "    if num == 2:\n",
    "        is_two +=1\n",
    "    else:\n",
    "        is_not +=1\n",
    "\n",
    "print(is_two)\n",
    "print(is_not)\n",
    "\n",
    "df = pd.DataFrame(results)\n",
    "sns.barplot(results, x=\"is two\", y =\"count\")\n",
    "  "
   ]
  },
  {
   "cell_type": "code",
   "execution_count": 41,
   "id": "77d39f98-19e0-43a9-8e38-74a5be543c11",
   "metadata": {},
   "outputs": [
    {
     "data": {
      "text/plain": [
       "0.25"
      ]
     },
     "execution_count": 41,
     "metadata": {},
     "output_type": "execute_result"
    }
   ],
   "source": [
    "4/16\n"
   ]
  },
  {
   "cell_type": "code",
   "execution_count": 42,
   "id": "a4476c75-683b-4fe7-b751-eeb9ec145f2e",
   "metadata": {},
   "outputs": [
    {
     "name": "stdout",
     "output_type": "stream",
     "text": [
      "0.29\n"
     ]
    }
   ],
   "source": [
    "print(is_two/100)"
   ]
  },
  {
   "cell_type": "markdown",
   "id": "634593ff-07f4-4a45-a07e-6e49414a4af0",
   "metadata": {},
   "source": [
    "Answers: given that the first card drawn is less than a 6 card, the theoretical probability of getting a 2 card is a 25% chance, and the empirical probability of 29% chance is very close to that, so the probability of getting a 2 card is 25%. "
   ]
  }
 ],
 "metadata": {
  "kernelspec": {
   "display_name": "anaconda-ai-2024.04-py310",
   "language": "python",
   "name": "conda-env-anaconda-ai-2024.04-py310-py"
  },
  "language_info": {
   "codemirror_mode": {
    "name": "ipython",
    "version": 3
   },
   "file_extension": ".py",
   "mimetype": "text/x-python",
   "name": "python",
   "nbconvert_exporter": "python",
   "pygments_lexer": "ipython3",
   "version": "3.10.13"
  }
 },
 "nbformat": 4,
 "nbformat_minor": 5
}
